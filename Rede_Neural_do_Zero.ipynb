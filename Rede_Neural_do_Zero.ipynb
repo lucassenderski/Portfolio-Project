{
  "nbformat": 4,
  "nbformat_minor": 0,
  "metadata": {
    "colab": {
      "provenance": [],
      "authorship_tag": "ABX9TyNW4xkS33WGzdNsHn4MAYGr",
      "include_colab_link": true
    },
    "kernelspec": {
      "name": "python3",
      "display_name": "Python 3"
    },
    "language_info": {
      "name": "python"
    }
  },
  "cells": [
    {
      "cell_type": "markdown",
      "metadata": {
        "id": "view-in-github",
        "colab_type": "text"
      },
      "source": [
        "<a href=\"https://colab.research.google.com/github/lucassenderski/Portfolio-Project/blob/main/Rede_Neural_do_Zero.ipynb\" target=\"_parent\"><img src=\"https://colab.research.google.com/assets/colab-badge.svg\" alt=\"Open In Colab\"/></a>"
      ]
    },
    {
      "cell_type": "code",
      "execution_count": 76,
      "metadata": {
        "id": "9yZyAsGLzsBi"
      },
      "outputs": [],
      "source": [
        "import numpy as np\n",
        "import torch\n",
        "import torch.nn.functional\n",
        "import torchvision\n",
        "import matplotlib.pyplot as plt\n",
        "from time import time\n",
        "from torchvision import datasets, transforms\n",
        "from torch import nn, optim"
      ]
    },
    {
      "cell_type": "code",
      "source": [
        "transform = transforms.ToTensor()#Definindo a conversão de imagem para tensor\n",
        "\n",
        "trainset= datasets.MNIST('./MNIST_data/',download=True, train=True, transform=transform)#Carrega a parte de treino dodataset\n",
        "trainloader= torch.utils.data.DataLoader(trainset,batch_size=64, shuffle=True) #Cria um buffer para pegar os dados por partes\n",
        "\n",
        "valset = datasets.MNIST('./MNIST_data/', download=True, train=False, transform=transform) # Load the validation part of the dataset\n",
        "valloader = torch.utils.data.DataLoader (valset, batch_size=64, shuffle =True) # Creates a buffer to take the data in parts"
      ],
      "metadata": {
        "id": "00Jd2cu1z0K0"
      },
      "execution_count": 77,
      "outputs": []
    },
    {
      "cell_type": "code",
      "source": [
        "dataiter = iter(trainloader)\n",
        "imagens, etiquetas = next(dataiter)\n",
        "plt.imshow(imagens[0].numpy().squeeze(), cmap='gray_r');"
      ],
      "metadata": {
        "colab": {
          "base_uri": "https://localhost:8080/",
          "height": 430
        },
        "id": "pIr-O69EKbIq",
        "outputId": "ea0ac017-de5e-40b7-e0e8-c4a7a381b981"
      },
      "execution_count": 87,
      "outputs": [
        {
          "output_type": "display_data",
          "data": {
            "text/plain": [
              "<Figure size 640x480 with 1 Axes>"
            ],
            "image/png": "[encoded data removed]"
          },
          "metadata": {}
        }
      ]
    },
    {
      "cell_type": "code",
      "source": [
        "print(imagens[0].shape)#para verificar as dimensoes do tensor de cada imagem\n",
        "print(etiquetas[0].shape)#para verificar as dimensoes do tensor de cada etiqueta\n",
        "\n",
        "torch.Size([1, 28, 28])\n",
        "torch.Size([])"
      ],
      "metadata": {
        "colab": {
          "base_uri": "https://localhost:8080/"
        },
        "id": "MverJnnYMX_o",
        "outputId": "acfe2785-c680-4ad2-da87-9a09e69eb411"
      },
      "execution_count": 79,
      "outputs": [
        {
          "output_type": "stream",
          "name": "stdout",
          "text": [
            "torch.Size([1, 28, 28])\n",
            "torch.Size([])\n"
          ]
        },
        {
          "output_type": "execute_result",
          "data": {
            "text/plain": [
              "torch.Size([])"
            ]
          },
          "metadata": {},
          "execution_count": 79
        }
      ]
    },
    {
      "cell_type": "code",
      "source": [
        "class Modelo(nn.Module):\n",
        "\n",
        "    def __init__(self):\n",
        "\n",
        "        super (Modelo, self).__init__()\n",
        "\n",
        "        self.linear1 = nn.Linear(28*28, 128) # camada de entrada, 784 neurônios que se ligam a 128\n",
        "        self.linear2 = nn.Linear(128, 64) # camada interna 1, 128 neurônios que se ligam a 64\n",
        "        self.linear3 = nn.Linear(64, 10) # camada interna 2, 64 neurônios que se ligam a 10\n",
        "\n",
        "    #para a camada de saida não e necessário definir nada pois só precisamos pegar o output da camada interna 2\n",
        "\n",
        "    def forward(self,X):\n",
        "\n",
        "        X = F.relu(self.linear1(X)) # função de ativação da camada de entrada para a camada interna 1\n",
        "        X = F.relu(self.linear2(X)) # função de ativação da camada interna 1 para a camada interna 2\n",
        "        X = self.linear3(X) # função de ativação da camada interna 2 para a camada de saída, nesse caso f(x) = x\n",
        "        return F.log_softmax(X, dim=1) # dados utilizados para calcular a perda\n",
        "\n"
      ],
      "metadata": {
        "id": "Yw5QKpzXOHE6"
      },
      "execution_count": 80,
      "outputs": []
    },
    {
      "cell_type": "code",
      "source": [
        "def treino(modelo, trainloader, device):\n",
        "\n",
        "    otimizador = optim.SGD(modelo.parameters(), lr=0.01, momentum=0.5) # define a polítca de atualização dos pesos e da bias\n",
        "    inicio =time() # timer para sabermos quanto tempo levou o treino\n",
        "\n",
        "    criterio = nn.NLLLoss() # definindo o criterio para calcular a perda\n",
        "    EPOCHS = 10 # numero de epochs que o algoritmo rodará\n",
        "    modelo.train() # ativando o modo de treinamento do modelo\n",
        "\n",
        "    for epoch in range (EPOCHS):\n",
        "\n",
        "        perda_acumulada = 0 # inicialização da perda acumulada da epoch em questão\n",
        "\n",
        "        for imagens, etiquetas in trainloader:\n",
        "\n",
        "            imagens = imagens.view(imagens.shape[0], -1) # convertendo as imagens para \"vetores\" de 28 28 casas pa otimizador.zero grad() # zerando os gradientes por conta do ciclo anterior\n",
        "\n",
        "            output = modelo(imagens.to(device)) # colocando os dados no modelo\n",
        "            perda_instantanea = criterio(output, etiquetas.to(device)) # calculando a perda da epoch em questão\n",
        "\n",
        "            perda_instantanea.backward() # back propagation a partir da perda\n",
        "            otimizador.step() # atualizando os pesos e a bias\n",
        "            perda_acumulada += perda_instantanea.item() # atualização da perda acumulada\n",
        "\n",
        "        else:\n",
        "\n",
        "            print(\"Epoch {} - Perda resultante: {}\".format(epoch+1, perda_acumulada/len(trainloader)))\n",
        "        print(\"\\nTempo de treino (em minutos) =\",(time()-inicio)/60)"
      ],
      "metadata": {
        "id": "WhKZOdJDRtD0"
      },
      "execution_count": 81,
      "outputs": []
    },
    {
      "cell_type": "code",
      "source": [
        "def validacao(modelo, valloader, device):\n",
        "    conta_corretas, conta_todas= 0,0\n",
        "\n",
        "    for imagens, etiquetas in valloader:\n",
        "\n",
        "      for i in range(len(etiquetas)):\n",
        "\n",
        "        img = imagens[i].view(1, 784)\n",
        "\n",
        "        #desativar o autograd para acelerar a validação. Grafos computacionais dinâmicos tem um custo alto de processamento\n",
        "\n",
        "        with torch.no_grad():\n",
        "\n",
        "            logps = modelo(img.to(device)) # output do modelo em escala logaritmica\n",
        "\n",
        "        ps = torch.exp(logps) # converte output para escala normal(lembrando que é um tensor)\n",
        "\n",
        "        probab =list(ps.cpu().numpy()[0])\n",
        "\n",
        "        etiqueta_pred = probab.index(max(probab)) # converte o tensor em um número, no caso, o número que o modelo previu\n",
        "\n",
        "        etiqueta_certa = etiquetas.numpy()[i]\n",
        "\n",
        "        if(etiqueta_certa == etiqueta_pred): # compara a previsão com o valor correto\n",
        "\n",
        "          conta_corretas +=1\n",
        "\n",
        "        conta_todas +=1\n",
        "\n",
        "      print(\"Total de imagens testadas =\", conta_todas)\n",
        "      print(\"\\nPrecisão do modelo = {}%\".format(conta_corretas*100/conta_todas))"
      ],
      "metadata": {
        "id": "Y3GscTz8UJVY"
      },
      "execution_count": 82,
      "outputs": []
    },
    {
      "cell_type": "code",
      "source": [
        "modelo = Modelo()\n",
        "device = torch.device(\"cuda\" if torch.cuda.is_available()else \"cpu\")\n",
        "modelo.to(device)"
      ],
      "metadata": {
        "colab": {
          "base_uri": "https://localhost:8080/"
        },
        "id": "y6-La7DhWRHF",
        "outputId": "4e4c171a-d25d-4a6e-e5c4-76d552cd1c5c"
      },
      "execution_count": 83,
      "outputs": [
        {
          "output_type": "execute_result",
          "data": {
            "text/plain": [
              "Modelo(\n",
              "  (linear1): Linear(in_features=784, out_features=128, bias=True)\n",
              "  (linear2): Linear(in_features=128, out_features=64, bias=True)\n",
              "  (linear3): Linear(in_features=64, out_features=10, bias=True)\n",
              ")"
            ]
          },
          "metadata": {},
          "execution_count": 83
        }
      ]
    }
  ]
}